{
 "cells": [
  {
   "cell_type": "code",
   "execution_count": 1,
   "metadata": {},
   "outputs": [
    {
     "name": "stderr",
     "output_type": "stream",
     "text": [
      "/home/octoopt/anaconda3/envs/hcmc/lib/python3.10/site-packages/tqdm/auto.py:21: TqdmWarning: IProgress not found. Please update jupyter and ipywidgets. See https://ipywidgets.readthedocs.io/en/stable/user_install.html\n",
      "  from .autonotebook import tqdm as notebook_tqdm\n",
      "/home/octoopt/anaconda3/envs/hcmc/lib/python3.10/site-packages/fairscale/experimental/nn/offload.py:19: FutureWarning: `torch.cuda.amp.custom_fwd(args...)` is deprecated. Please use `torch.amp.custom_fwd(args..., device_type='cuda')` instead.\n",
      "  return torch.cuda.amp.custom_fwd(orig_func)  # type: ignore\n",
      "/home/octoopt/anaconda3/envs/hcmc/lib/python3.10/site-packages/fairscale/experimental/nn/offload.py:30: FutureWarning: `torch.cuda.amp.custom_bwd(args...)` is deprecated. Please use `torch.amp.custom_bwd(args..., device_type='cuda')` instead.\n",
      "  return torch.cuda.amp.custom_bwd(orig_func)  # type: ignore\n",
      "/home/octoopt/anaconda3/envs/hcmc/lib/python3.10/site-packages/torch/cuda/__init__.py:128: UserWarning: CUDA initialization: CUDA unknown error - this may be due to an incorrectly set up environment, e.g. changing env variable CUDA_VISIBLE_DEVICES after program start. Setting the available devices to be zero. (Triggered internally at ../c10/cuda/CUDAFunctions.cpp:108.)\n",
      "  return torch._C._cuda_getDeviceCount() > 0\n"
     ]
    }
   ],
   "source": [
    "from components.fuzzymatching import FuzzyMatchingFactory\n",
    "\n",
    "\n",
    "config = {'csv_path': './backend/db/keyframes.csv'}\n",
    "ocr_matcher = FuzzyMatchingFactory.produce('rapidwuzzy', **config)\n",
    "\n",
    "keyword = \"Apple\"\n",
    "result = ocr_matcher.run(keyword)"
   ]
  },
  {
   "cell_type": "code",
   "execution_count": 2,
   "metadata": {},
   "outputs": [],
   "source": [
    "keyword = \"Apple\"\n",
    "result = ocr_matcher.run(keyword)"
   ]
  },
  {
   "cell_type": "code",
   "execution_count": 3,
   "metadata": {},
   "outputs": [
    {
     "data": {
      "text/plain": [
       "['/home/octoopt/Desktop/Lab/Personal/evento/backend/db/s_optimized_keyframes/L07_V011-12586.webp',\n",
       " '/home/octoopt/Desktop/Lab/Personal/evento/backend/db/s_optimized_keyframes/L18_V022-30924.webp',\n",
       " '/home/octoopt/Desktop/Lab/Personal/evento/backend/db/s_optimized_keyframes/L22_V010-00051.webp',\n",
       " '/home/octoopt/Desktop/Lab/Personal/evento/backend/db/s_optimized_keyframes/L19_V030-17204.webp',\n",
       " '/home/octoopt/Desktop/Lab/Personal/evento/backend/db/s_optimized_keyframes/L24_V017-00435.webp',\n",
       " '/home/octoopt/Desktop/Lab/Personal/evento/backend/db/s_optimized_keyframes/L24_V045-00668.webp',\n",
       " '/home/octoopt/Desktop/Lab/Personal/evento/backend/db/s_optimized_keyframes/L10_V024-21236.webp',\n",
       " '/home/octoopt/Desktop/Lab/Personal/evento/backend/db/s_optimized_keyframes/L02_V013-10274.webp',\n",
       " '/home/octoopt/Desktop/Lab/Personal/evento/backend/db/s_optimized_keyframes/L09_V010-00657.webp',\n",
       " '/home/octoopt/Desktop/Lab/Personal/evento/backend/db/s_optimized_keyframes/L09_V015-36400.webp']"
      ]
     },
     "execution_count": 3,
     "metadata": {},
     "output_type": "execute_result"
    }
   ],
   "source": [
    "img_paths = ocr_matcher.get_image_paths(result)\n",
    "img_paths"
   ]
  },
  {
   "cell_type": "code",
   "execution_count": 4,
   "metadata": {},
   "outputs": [
    {
     "data": {
      "text/plain": [
       "<components.llms.gemini.GeminiAgent at 0x7cf1a82e18d0>"
      ]
     },
     "execution_count": 4,
     "metadata": {},
     "output_type": "execute_result"
    }
   ],
   "source": [
    "from components.llms import AgentFactory\n",
    "from components.llms.prompts import EXTRACT_KEYWORDS\n",
    "\n",
    "import os \n",
    "from dotenv import load_dotenv\n",
    "\n",
    "load_dotenv()\n",
    "GOOGLE_API_KEY = os.getenv(\"GOOGLE_API_KEY\")\n",
    "\n",
    "llm_config = {'api_key': GOOGLE_API_KEY}\n",
    "llm_agent = AgentFactory.produce(provider='gemini', \n",
    "                                 **llm_config)\n",
    "llm_agent"
   ]
  },
  {
   "cell_type": "code",
   "execution_count": 5,
   "metadata": {},
   "outputs": [],
   "source": [
    "from utils.pre_processing import clean\n",
    "from components.translation import TranslatorFactory\n",
    "\n",
    "\n",
    "translator = TranslatorFactory.produce(provider='googletrans')\n"
   ]
  },
  {
   "cell_type": "code",
   "execution_count": 6,
   "metadata": {},
   "outputs": [
    {
     "data": {
      "text/plain": [
       "'The introduction of Vietnam - Japan Festival.In the festival there are scenes of Japanese -style lanterns and Wagasa umbrellas.The middle segment has the image of the giant Doraemon cat and there are people around him to take photos with it.The segment then has a picture of a Japanese band playing traditional musical instruments on stage.Throughout the introduction are some interviews with the festival participants.Ask how many different people are interviewed in the introduction above?'"
      ]
     },
     "execution_count": 6,
     "metadata": {},
     "output_type": "execute_result"
    }
   ],
   "source": [
    "query = \"Đoạn giới thiệu về lễ hội Việt - Nhật. Trong lễ hội có các phân cảnh những chiếc lồng đèn kiểu Nhật cùng những chiếc dù Wagasa. Phân đoạn giữa có hình ảnh của chú mèo máy Doraemon khổng lồ và có những người xung quanh chụp ảnh với nó. Phân đoạn sau đó có hình ảnh một ban nhạc Nhật chơi các nhạc cụ truyền thống trên sân khấu. Xuyên suốt đoạn giới thiệu là một số đoạn phỏng vấn những người tham gia lễ hội. Hỏi có tổng cộng bao nhiêu người khác nhau được phỏng vấn trong đoạn giới thiệu trên?\"\n",
    "translated_query = translator.run(query)\n",
    "translated_query"
   ]
  },
  {
   "cell_type": "code",
   "execution_count": 7,
   "metadata": {},
   "outputs": [
    {
     "data": {
      "text/plain": [
       "'the introduction of vietnam - japan festival.in the festival there are scenes of japanese -style lanterns and wagasa umbrellas.the middle segment has the image of the giant doraemon cat and there are people around him to take photos with it.the segment then has a picture of a japanese band playing traditional musical instruments on stage.throughout the introduction are some interviews with the festival participants.ask how many different people are interviewed in the introduction above?'"
      ]
     },
     "execution_count": 7,
     "metadata": {},
     "output_type": "execute_result"
    }
   ],
   "source": [
    "clean_query = clean(translated_query)\n",
    "clean_query"
   ]
  },
  {
   "cell_type": "code",
   "execution_count": 26,
   "metadata": {},
   "outputs": [
    {
     "data": {
      "text/plain": [
       "['Vietnam - Japan Festival',\n",
       " 'Japanese -style lanterns',\n",
       " 'Wagasa umbrellas',\n",
       " 'Doraemon',\n",
       " 'Japanese band',\n",
       " 'traditional musical instruments']"
      ]
     },
     "execution_count": 26,
     "metadata": {},
     "output_type": "execute_result"
    }
   ],
   "source": [
    "import json\n",
    "\n",
    "kw_v1 = llm_agent.run(EXTRACT_KEYWORDS + '\\n' + translated_query)\n",
    "kw_v1 = json.loads(kw_v1)\n",
    "kw_v1 = [d['keyword'] for d in kw_v1]\n",
    "kw_v1"
   ]
  },
  {
   "cell_type": "code",
   "execution_count": 27,
   "metadata": {},
   "outputs": [
    {
     "name": "stdout",
     "output_type": "stream",
     "text": [
      "[{\"keyword\": \"Vietnam-Japan Festival\"}, {\"keyword\": \"Japanese lanterns\"}, {\"keyword\": \"wagasa umbrellas\"}, {\"keyword\": \"Doraemon\"}, {\"keyword\": \"Japanese band\"}, {\"keyword\": \"traditional musical instruments\"}, {\"keyword\": \"festival participants\"}]\n",
      "\n",
      "<class 'str'>\n"
     ]
    },
    {
     "data": {
      "text/plain": [
       "['Vietnam-Japan Festival',\n",
       " 'Japanese lanterns',\n",
       " 'wagasa umbrellas',\n",
       " 'Doraemon',\n",
       " 'Japanese band',\n",
       " 'traditional musical instruments',\n",
       " 'festival participants']"
      ]
     },
     "execution_count": 27,
     "metadata": {},
     "output_type": "execute_result"
    }
   ],
   "source": [
    "import json\n",
    "\n",
    "kw_v2 = llm_agent.run(EXTRACT_KEYWORDS + '\\n' + clean_query)\n",
    "print(kw_v2)\n",
    "print(type(kw_v2))\n",
    "kw_v2 = json.loads(kw_v2)\n",
    "kw_v2 = [d['keyword'] for d in kw_v2]\n",
    "kw_v2"
   ]
  },
  {
   "cell_type": "code",
   "execution_count": 28,
   "metadata": {},
   "outputs": [
    {
     "data": {
      "text/plain": [
       "['Việt - Nhật',\n",
       " 'lễ hội',\n",
       " 'lồng đèn',\n",
       " 'Wagasa',\n",
       " 'Doraemon',\n",
       " 'nhạc cụ truyền thống',\n",
       " 'phỏng vấn']"
      ]
     },
     "execution_count": 28,
     "metadata": {},
     "output_type": "execute_result"
    }
   ],
   "source": [
    "import json\n",
    "\n",
    "kw_v3 = llm_agent.run(EXTRACT_KEYWORDS + '\\n' + query)\n",
    "kw_v3 = json.loads(kw_v3)\n",
    "kw_v3 = [d['keyword'] for d in kw_v3]\n",
    "kw_v3"
   ]
  },
  {
   "cell_type": "code",
   "execution_count": 31,
   "metadata": {},
   "outputs": [
    {
     "name": "stdout",
     "output_type": "stream",
     "text": [
      "60\n",
      "53\n",
      "['/home/octoopt/Desktop/Lab/Personal/evento/backend/db/s_optimized_keyframes/L24_V043-10716.webp', '/home/octoopt/Desktop/Lab/Personal/evento/backend/db/s_optimized_keyframes/L24_V018-00000.webp', '/home/octoopt/Desktop/Lab/Personal/evento/backend/db/s_optimized_keyframes/L17_V009-00042.webp', '/home/octoopt/Desktop/Lab/Personal/evento/backend/db/s_optimized_keyframes/L24_V007-00984.webp', '/home/octoopt/Desktop/Lab/Personal/evento/backend/db/s_optimized_keyframes/L24_V005-01531.webp', '/home/octoopt/Desktop/Lab/Personal/evento/backend/db/s_optimized_keyframes/L20_V019-24400.webp', '/home/octoopt/Desktop/Lab/Personal/evento/backend/db/s_optimized_keyframes/L11_V006-12142.webp', '/home/octoopt/Desktop/Lab/Personal/evento/backend/db/s_optimized_keyframes/L18_V008-00318.webp', '/home/octoopt/Desktop/Lab/Personal/evento/backend/db/s_optimized_keyframes/L24_V004-06871.webp', '/home/octoopt/Desktop/Lab/Personal/evento/backend/db/s_optimized_keyframes/L24_V029-16206.webp', '/home/octoopt/Desktop/Lab/Personal/evento/backend/db/s_optimized_keyframes/L01_V031-21436.webp', '/home/octoopt/Desktop/Lab/Personal/evento/backend/db/s_optimized_keyframes/L24_V043-10213.webp', '/home/octoopt/Desktop/Lab/Personal/evento/backend/db/s_optimized_keyframes/L14_V024-14305.webp', '/home/octoopt/Desktop/Lab/Personal/evento/backend/db/s_optimized_keyframes/L24_V007-07244.webp', '/home/octoopt/Desktop/Lab/Personal/evento/backend/db/s_optimized_keyframes/L19_V024-29772.webp', '/home/octoopt/Desktop/Lab/Personal/evento/backend/db/s_optimized_keyframes/L24_V016-05471.webp', '/home/octoopt/Desktop/Lab/Personal/evento/backend/db/s_optimized_keyframes/L10_V018-00008.webp', '/home/octoopt/Desktop/Lab/Personal/evento/backend/db/s_optimized_keyframes/L20_V016-00007.webp', '/home/octoopt/Desktop/Lab/Personal/evento/backend/db/s_optimized_keyframes/L24_V026-13456.webp', '/home/octoopt/Desktop/Lab/Personal/evento/backend/db/s_optimized_keyframes/L24_V025-16238.webp', '/home/octoopt/Desktop/Lab/Personal/evento/backend/db/s_optimized_keyframes/L06_V027-31515.webp', '/home/octoopt/Desktop/Lab/Personal/evento/backend/db/s_optimized_keyframes/L24_V002-03876.webp', '/home/octoopt/Desktop/Lab/Personal/evento/backend/db/s_optimized_keyframes/L22_V016-32655.webp', '/home/octoopt/Desktop/Lab/Personal/evento/backend/db/s_optimized_keyframes/L24_V014-01656.webp', '/home/octoopt/Desktop/Lab/Personal/evento/backend/db/s_optimized_keyframes/L10_V024-00419.webp', '/home/octoopt/Desktop/Lab/Personal/evento/backend/db/s_optimized_keyframes/L10_V008-29727.webp', '/home/octoopt/Desktop/Lab/Personal/evento/backend/db/s_optimized_keyframes/L09_V014-31190.webp', '/home/octoopt/Desktop/Lab/Personal/evento/backend/db/s_optimized_keyframes/L05_V024-18145.webp', '/home/octoopt/Desktop/Lab/Personal/evento/backend/db/s_optimized_keyframes/L24_V009-11008.webp', '/home/octoopt/Desktop/Lab/Personal/evento/backend/db/s_optimized_keyframes/L02_V030-15045.webp', '/home/octoopt/Desktop/Lab/Personal/evento/backend/db/s_optimized_keyframes/L07_V013-00529.webp', '/home/octoopt/Desktop/Lab/Personal/evento/backend/db/s_optimized_keyframes/L24_V005-08128.webp', '/home/octoopt/Desktop/Lab/Personal/evento/backend/db/s_optimized_keyframes/L24_V024-02104.webp', '/home/octoopt/Desktop/Lab/Personal/evento/backend/db/s_optimized_keyframes/L22_V018-02665.webp', '/home/octoopt/Desktop/Lab/Personal/evento/backend/db/s_optimized_keyframes/L09_V010-00657.webp', '/home/octoopt/Desktop/Lab/Personal/evento/backend/db/s_optimized_keyframes/L13_V022-20516.webp', '/home/octoopt/Desktop/Lab/Personal/evento/backend/db/s_optimized_keyframes/L24_V009-01635.webp', '/home/octoopt/Desktop/Lab/Personal/evento/backend/db/s_optimized_keyframes/L06_V026-29717.webp', '/home/octoopt/Desktop/Lab/Personal/evento/backend/db/s_optimized_keyframes/L21_V013-31966.webp', '/home/octoopt/Desktop/Lab/Personal/evento/backend/db/s_optimized_keyframes/L24_V021-11463.webp', '/home/octoopt/Desktop/Lab/Personal/evento/backend/db/s_optimized_keyframes/L24_V005-14238.webp', '/home/octoopt/Desktop/Lab/Personal/evento/backend/db/s_optimized_keyframes/L24_V011-13645.webp', '/home/octoopt/Desktop/Lab/Personal/evento/backend/db/s_optimized_keyframes/L12_V012-26620.webp', '/home/octoopt/Desktop/Lab/Personal/evento/backend/db/s_optimized_keyframes/L24_V002-03835.webp', '/home/octoopt/Desktop/Lab/Personal/evento/backend/db/s_optimized_keyframes/L19_V024-31339.webp', '/home/octoopt/Desktop/Lab/Personal/evento/backend/db/s_optimized_keyframes/L08_V012-11342.webp', '/home/octoopt/Desktop/Lab/Personal/evento/backend/db/s_optimized_keyframes/L24_V007-09780.webp', '/home/octoopt/Desktop/Lab/Personal/evento/backend/db/s_optimized_keyframes/L24_V014-08476.webp', '/home/octoopt/Desktop/Lab/Personal/evento/backend/db/s_optimized_keyframes/L21_V030-30593.webp', '/home/octoopt/Desktop/Lab/Personal/evento/backend/db/s_optimized_keyframes/L24_V008-02415.webp', '/home/octoopt/Desktop/Lab/Personal/evento/backend/db/s_optimized_keyframes/L24_V015-03941.webp', '/home/octoopt/Desktop/Lab/Personal/evento/backend/db/s_optimized_keyframes/L06_V026-29509.webp', '/home/octoopt/Desktop/Lab/Personal/evento/backend/db/s_optimized_keyframes/L24_V022-13943.webp']\n"
     ]
    }
   ],
   "source": [
    "matching_paths_v1 = []\n",
    "\n",
    "for kw in kw_v1: \n",
    "    result = ocr_matcher.run(kw)\n",
    "    img_paths = ocr_matcher.get_image_paths(result)\n",
    "    matching_paths_v1 += img_paths\n",
    "\n",
    "print(len(matching_paths_v1))\n",
    "matching_paths_v1 = list(set(matching_paths_v1))\n",
    "print(len(matching_paths_v1))\n",
    "print(matching_paths_v1)"
   ]
  },
  {
   "cell_type": "code",
   "execution_count": 33,
   "metadata": {},
   "outputs": [
    {
     "name": "stdout",
     "output_type": "stream",
     "text": [
      "70\n",
      "57\n",
      "['/home/octoopt/Desktop/Lab/Personal/evento/backend/db/s_optimized_keyframes/L24_V043-10716.webp', '/home/octoopt/Desktop/Lab/Personal/evento/backend/db/s_optimized_keyframes/L24_V018-00000.webp', '/home/octoopt/Desktop/Lab/Personal/evento/backend/db/s_optimized_keyframes/L17_V009-00042.webp', '/home/octoopt/Desktop/Lab/Personal/evento/backend/db/s_optimized_keyframes/L24_V007-00984.webp', '/home/octoopt/Desktop/Lab/Personal/evento/backend/db/s_optimized_keyframes/L24_V005-01531.webp', '/home/octoopt/Desktop/Lab/Personal/evento/backend/db/s_optimized_keyframes/L24_V004-08976.webp', '/home/octoopt/Desktop/Lab/Personal/evento/backend/db/s_optimized_keyframes/L01_V031-20472.webp', '/home/octoopt/Desktop/Lab/Personal/evento/backend/db/s_optimized_keyframes/L20_V019-24400.webp', '/home/octoopt/Desktop/Lab/Personal/evento/backend/db/s_optimized_keyframes/L11_V006-12142.webp', '/home/octoopt/Desktop/Lab/Personal/evento/backend/db/s_optimized_keyframes/L01_V031-21436.webp', '/home/octoopt/Desktop/Lab/Personal/evento/backend/db/s_optimized_keyframes/L24_V006-11254.webp', '/home/octoopt/Desktop/Lab/Personal/evento/backend/db/s_optimized_keyframes/L24_V043-10213.webp', '/home/octoopt/Desktop/Lab/Personal/evento/backend/db/s_optimized_keyframes/L14_V024-14305.webp', '/home/octoopt/Desktop/Lab/Personal/evento/backend/db/s_optimized_keyframes/L24_V015-07970.webp', '/home/octoopt/Desktop/Lab/Personal/evento/backend/db/s_optimized_keyframes/L13_V001-00067.webp', '/home/octoopt/Desktop/Lab/Personal/evento/backend/db/s_optimized_keyframes/L23_V021-11160.webp', '/home/octoopt/Desktop/Lab/Personal/evento/backend/db/s_optimized_keyframes/L24_V007-07244.webp', '/home/octoopt/Desktop/Lab/Personal/evento/backend/db/s_optimized_keyframes/L19_V024-29772.webp', '/home/octoopt/Desktop/Lab/Personal/evento/backend/db/s_optimized_keyframes/L24_V016-02204.webp', '/home/octoopt/Desktop/Lab/Personal/evento/backend/db/s_optimized_keyframes/L24_V016-05471.webp', '/home/octoopt/Desktop/Lab/Personal/evento/backend/db/s_optimized_keyframes/L20_V016-00007.webp', '/home/octoopt/Desktop/Lab/Personal/evento/backend/db/s_optimized_keyframes/L24_V026-13456.webp', '/home/octoopt/Desktop/Lab/Personal/evento/backend/db/s_optimized_keyframes/L24_V019-08375.webp', '/home/octoopt/Desktop/Lab/Personal/evento/backend/db/s_optimized_keyframes/L24_V025-16238.webp', '/home/octoopt/Desktop/Lab/Personal/evento/backend/db/s_optimized_keyframes/L06_V027-31515.webp', '/home/octoopt/Desktop/Lab/Personal/evento/backend/db/s_optimized_keyframes/L24_V002-03876.webp', '/home/octoopt/Desktop/Lab/Personal/evento/backend/db/s_optimized_keyframes/L22_V016-32655.webp', '/home/octoopt/Desktop/Lab/Personal/evento/backend/db/s_optimized_keyframes/L24_V030-17737.webp', '/home/octoopt/Desktop/Lab/Personal/evento/backend/db/s_optimized_keyframes/L24_V014-01656.webp', '/home/octoopt/Desktop/Lab/Personal/evento/backend/db/s_optimized_keyframes/L10_V024-00419.webp', '/home/octoopt/Desktop/Lab/Personal/evento/backend/db/s_optimized_keyframes/L10_V008-29727.webp', '/home/octoopt/Desktop/Lab/Personal/evento/backend/db/s_optimized_keyframes/L09_V014-31190.webp', '/home/octoopt/Desktop/Lab/Personal/evento/backend/db/s_optimized_keyframes/L05_V024-18145.webp', '/home/octoopt/Desktop/Lab/Personal/evento/backend/db/s_optimized_keyframes/L24_V009-11008.webp', '/home/octoopt/Desktop/Lab/Personal/evento/backend/db/s_optimized_keyframes/L24_V004-14444.webp', '/home/octoopt/Desktop/Lab/Personal/evento/backend/db/s_optimized_keyframes/L02_V030-15045.webp', '/home/octoopt/Desktop/Lab/Personal/evento/backend/db/s_optimized_keyframes/L07_V013-00529.webp', '/home/octoopt/Desktop/Lab/Personal/evento/backend/db/s_optimized_keyframes/L24_V005-08128.webp', '/home/octoopt/Desktop/Lab/Personal/evento/backend/db/s_optimized_keyframes/L24_V024-02104.webp', '/home/octoopt/Desktop/Lab/Personal/evento/backend/db/s_optimized_keyframes/L09_V010-00657.webp', '/home/octoopt/Desktop/Lab/Personal/evento/backend/db/s_optimized_keyframes/L13_V022-20516.webp', '/home/octoopt/Desktop/Lab/Personal/evento/backend/db/s_optimized_keyframes/L24_V009-01635.webp', '/home/octoopt/Desktop/Lab/Personal/evento/backend/db/s_optimized_keyframes/L06_V026-29717.webp', '/home/octoopt/Desktop/Lab/Personal/evento/backend/db/s_optimized_keyframes/L21_V013-31966.webp', '/home/octoopt/Desktop/Lab/Personal/evento/backend/db/s_optimized_keyframes/L24_V002-06244.webp', '/home/octoopt/Desktop/Lab/Personal/evento/backend/db/s_optimized_keyframes/L24_V005-14238.webp', '/home/octoopt/Desktop/Lab/Personal/evento/backend/db/s_optimized_keyframes/L24_V011-13645.webp', '/home/octoopt/Desktop/Lab/Personal/evento/backend/db/s_optimized_keyframes/L19_V024-31339.webp', '/home/octoopt/Desktop/Lab/Personal/evento/backend/db/s_optimized_keyframes/L24_V014-03893.webp', '/home/octoopt/Desktop/Lab/Personal/evento/backend/db/s_optimized_keyframes/L24_V007-09780.webp', '/home/octoopt/Desktop/Lab/Personal/evento/backend/db/s_optimized_keyframes/L06_V030-00044.webp', '/home/octoopt/Desktop/Lab/Personal/evento/backend/db/s_optimized_keyframes/L24_V014-08476.webp', '/home/octoopt/Desktop/Lab/Personal/evento/backend/db/s_optimized_keyframes/L24_V039-11009.webp', '/home/octoopt/Desktop/Lab/Personal/evento/backend/db/s_optimized_keyframes/L24_V008-02415.webp', '/home/octoopt/Desktop/Lab/Personal/evento/backend/db/s_optimized_keyframes/L24_V015-03941.webp', '/home/octoopt/Desktop/Lab/Personal/evento/backend/db/s_optimized_keyframes/L06_V026-29509.webp', '/home/octoopt/Desktop/Lab/Personal/evento/backend/db/s_optimized_keyframes/L18_V028-30094.webp']\n"
     ]
    }
   ],
   "source": [
    "matching_paths_v2 = []\n",
    "\n",
    "for kw in kw_v2: \n",
    "    result = ocr_matcher.run(kw)\n",
    "    img_paths = ocr_matcher.get_image_paths(result)\n",
    "    matching_paths_v2 += img_paths\n",
    "\n",
    "print(len(matching_paths_v2))\n",
    "matching_paths_v2 = list(set(matching_paths_v2))\n",
    "print(len(matching_paths_v2))\n",
    "print(matching_paths_v2)"
   ]
  },
  {
   "cell_type": "code",
   "execution_count": 34,
   "metadata": {},
   "outputs": [
    {
     "name": "stdout",
     "output_type": "stream",
     "text": [
      "70\n",
      "67\n",
      "['/home/octoopt/Desktop/Lab/Personal/evento/backend/db/s_optimized_keyframes/L02_V010-12470.webp', '/home/octoopt/Desktop/Lab/Personal/evento/backend/db/s_optimized_keyframes/L24_V029-15532.webp', '/home/octoopt/Desktop/Lab/Personal/evento/backend/db/s_optimized_keyframes/L20_V031-11320.webp', '/home/octoopt/Desktop/Lab/Personal/evento/backend/db/s_optimized_keyframes/L02_V001-06644.webp', '/home/octoopt/Desktop/Lab/Personal/evento/backend/db/s_optimized_keyframes/L24_V013-01155.webp', '/home/octoopt/Desktop/Lab/Personal/evento/backend/db/s_optimized_keyframes/L24_V015-05316.webp', '/home/octoopt/Desktop/Lab/Personal/evento/backend/db/s_optimized_keyframes/L24_V011-02194.webp', '/home/octoopt/Desktop/Lab/Personal/evento/backend/db/s_optimized_keyframes/L20_V019-24400.webp', '/home/octoopt/Desktop/Lab/Personal/evento/backend/db/s_optimized_keyframes/L04_V005-15958.webp', '/home/octoopt/Desktop/Lab/Personal/evento/backend/db/s_optimized_keyframes/L20_V020-07433.webp', '/home/octoopt/Desktop/Lab/Personal/evento/backend/db/s_optimized_keyframes/L01_V031-21436.webp', '/home/octoopt/Desktop/Lab/Personal/evento/backend/db/s_optimized_keyframes/L20_V014-08215.webp', '/home/octoopt/Desktop/Lab/Personal/evento/backend/db/s_optimized_keyframes/L20_V006-10307.webp', '/home/octoopt/Desktop/Lab/Personal/evento/backend/db/s_optimized_keyframes/L04_V001-04632.webp', '/home/octoopt/Desktop/Lab/Personal/evento/backend/db/s_optimized_keyframes/L24_V004-19383.webp', '/home/octoopt/Desktop/Lab/Personal/evento/backend/db/s_optimized_keyframes/L24_V007-07244.webp', '/home/octoopt/Desktop/Lab/Personal/evento/backend/db/s_optimized_keyframes/L19_V024-29772.webp', '/home/octoopt/Desktop/Lab/Personal/evento/backend/db/s_optimized_keyframes/L16_V020-25845.webp', '/home/octoopt/Desktop/Lab/Personal/evento/backend/db/s_optimized_keyframes/L24_V036-02171.webp', '/home/octoopt/Desktop/Lab/Personal/evento/backend/db/s_optimized_keyframes/L19_V024-10902.webp', '/home/octoopt/Desktop/Lab/Personal/evento/backend/db/s_optimized_keyframes/L19_V024-01141.webp', '/home/octoopt/Desktop/Lab/Personal/evento/backend/db/s_optimized_keyframes/L09_V014-00002.webp', '/home/octoopt/Desktop/Lab/Personal/evento/backend/db/s_optimized_keyframes/L19_V024-21041.webp', '/home/octoopt/Desktop/Lab/Personal/evento/backend/db/s_optimized_keyframes/L24_V043-09525.webp', '/home/octoopt/Desktop/Lab/Personal/evento/backend/db/s_optimized_keyframes/L16_V010-29596.webp', '/home/octoopt/Desktop/Lab/Personal/evento/backend/db/s_optimized_keyframes/L24_V016-05471.webp', '/home/octoopt/Desktop/Lab/Personal/evento/backend/db/s_optimized_keyframes/L20_V016-00007.webp', '/home/octoopt/Desktop/Lab/Personal/evento/backend/db/s_optimized_keyframes/L24_V003-11243.webp', '/home/octoopt/Desktop/Lab/Personal/evento/backend/db/s_optimized_keyframes/L20_V007-04257.webp', '/home/octoopt/Desktop/Lab/Personal/evento/backend/db/s_optimized_keyframes/L03_V027-04694.webp', '/home/octoopt/Desktop/Lab/Personal/evento/backend/db/s_optimized_keyframes/L24_V042-14573.webp', '/home/octoopt/Desktop/Lab/Personal/evento/backend/db/s_optimized_keyframes/L10_V008-29727.webp', '/home/octoopt/Desktop/Lab/Personal/evento/backend/db/s_optimized_keyframes/L09_V014-31190.webp', '/home/octoopt/Desktop/Lab/Personal/evento/backend/db/s_optimized_keyframes/L24_V006-04449.webp', '/home/octoopt/Desktop/Lab/Personal/evento/backend/db/s_optimized_keyframes/L24_V032-16779.webp', '/home/octoopt/Desktop/Lab/Personal/evento/backend/db/s_optimized_keyframes/L24_V022-04407.webp', '/home/octoopt/Desktop/Lab/Personal/evento/backend/db/s_optimized_keyframes/L24_V003-04571.webp', '/home/octoopt/Desktop/Lab/Personal/evento/backend/db/s_optimized_keyframes/L03_V026-00899.webp', '/home/octoopt/Desktop/Lab/Personal/evento/backend/db/s_optimized_keyframes/L24_V003-09642.webp', '/home/octoopt/Desktop/Lab/Personal/evento/backend/db/s_optimized_keyframes/L24_V024-02104.webp', '/home/octoopt/Desktop/Lab/Personal/evento/backend/db/s_optimized_keyframes/L16_V023-11194.webp', '/home/octoopt/Desktop/Lab/Personal/evento/backend/db/s_optimized_keyframes/L19_V010-00006.webp', '/home/octoopt/Desktop/Lab/Personal/evento/backend/db/s_optimized_keyframes/L24_V007-12409.webp', '/home/octoopt/Desktop/Lab/Personal/evento/backend/db/s_optimized_keyframes/L24_V039-09252.webp', '/home/octoopt/Desktop/Lab/Personal/evento/backend/db/s_optimized_keyframes/L24_V028-06718.webp', '/home/octoopt/Desktop/Lab/Personal/evento/backend/db/s_optimized_keyframes/L24_V003-05982.webp', '/home/octoopt/Desktop/Lab/Personal/evento/backend/db/s_optimized_keyframes/L13_V022-20516.webp', '/home/octoopt/Desktop/Lab/Personal/evento/backend/db/s_optimized_keyframes/L10_V003-01972.webp', '/home/octoopt/Desktop/Lab/Personal/evento/backend/db/s_optimized_keyframes/L08_V004-16919.webp', '/home/octoopt/Desktop/Lab/Personal/evento/backend/db/s_optimized_keyframes/L24_V010-06113.webp', '/home/octoopt/Desktop/Lab/Personal/evento/backend/db/s_optimized_keyframes/L21_V013-31966.webp', '/home/octoopt/Desktop/Lab/Personal/evento/backend/db/s_optimized_keyframes/L23_V002-09464.webp', '/home/octoopt/Desktop/Lab/Personal/evento/backend/db/s_optimized_keyframes/L06_V028-21516.webp', '/home/octoopt/Desktop/Lab/Personal/evento/backend/db/s_optimized_keyframes/L24_V002-06244.webp', '/home/octoopt/Desktop/Lab/Personal/evento/backend/db/s_optimized_keyframes/L10_V026-00049.webp', '/home/octoopt/Desktop/Lab/Personal/evento/backend/db/s_optimized_keyframes/L24_V043-16636.webp', '/home/octoopt/Desktop/Lab/Personal/evento/backend/db/s_optimized_keyframes/L23_V007-04629.webp', '/home/octoopt/Desktop/Lab/Personal/evento/backend/db/s_optimized_keyframes/L24_V007-08147.webp', '/home/octoopt/Desktop/Lab/Personal/evento/backend/db/s_optimized_keyframes/L08_V012-11342.webp', '/home/octoopt/Desktop/Lab/Personal/evento/backend/db/s_optimized_keyframes/L24_V014-08476.webp', '/home/octoopt/Desktop/Lab/Personal/evento/backend/db/s_optimized_keyframes/L04_V012-28364.webp', '/home/octoopt/Desktop/Lab/Personal/evento/backend/db/s_optimized_keyframes/L04_V027-05748.webp', '/home/octoopt/Desktop/Lab/Personal/evento/backend/db/s_optimized_keyframes/L03_V029-27111.webp', '/home/octoopt/Desktop/Lab/Personal/evento/backend/db/s_optimized_keyframes/L04_V018-19580.webp', '/home/octoopt/Desktop/Lab/Personal/evento/backend/db/s_optimized_keyframes/L08_V004-16612.webp', '/home/octoopt/Desktop/Lab/Personal/evento/backend/db/s_optimized_keyframes/L04_V018-15273.webp', '/home/octoopt/Desktop/Lab/Personal/evento/backend/db/s_optimized_keyframes/L24_V025-13055.webp']\n"
     ]
    }
   ],
   "source": [
    "matching_paths_v3 = []\n",
    "\n",
    "for kw in kw_v3: \n",
    "    result = ocr_matcher.run(kw)\n",
    "    img_paths = ocr_matcher.get_image_paths(result)\n",
    "    matching_paths_v3 += img_paths\n",
    "\n",
    "print(len(matching_paths_v3))\n",
    "matching_paths_v3 = list(set(matching_paths_v3))\n",
    "print(len(matching_paths_v3))\n",
    "print(matching_paths_v3)"
   ]
  },
  {
   "cell_type": "code",
   "execution_count": null,
   "metadata": {},
   "outputs": [],
   "source": []
  }
 ],
 "metadata": {
  "kernelspec": {
   "display_name": "hcmc",
   "language": "python",
   "name": "python3"
  },
  "language_info": {
   "codemirror_mode": {
    "name": "ipython",
    "version": 3
   },
   "file_extension": ".py",
   "mimetype": "text/x-python",
   "name": "python",
   "nbconvert_exporter": "python",
   "pygments_lexer": "ipython3",
   "version": "3.10.14"
  }
 },
 "nbformat": 4,
 "nbformat_minor": 2
}
