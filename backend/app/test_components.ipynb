{
 "cells": [
  {
   "cell_type": "code",
   "execution_count": 1,
   "metadata": {},
   "outputs": [
    {
     "name": "stderr",
     "output_type": "stream",
     "text": [
      "/home/octoopt/anaconda3/envs/hcmc/lib/python3.10/site-packages/tqdm/auto.py:21: TqdmWarning: IProgress not found. Please update jupyter and ipywidgets. See https://ipywidgets.readthedocs.io/en/stable/user_install.html\n",
      "  from .autonotebook import tqdm as notebook_tqdm\n",
      "/home/octoopt/anaconda3/envs/hcmc/lib/python3.10/site-packages/fairscale/experimental/nn/offload.py:19: FutureWarning: `torch.cuda.amp.custom_fwd(args...)` is deprecated. Please use `torch.amp.custom_fwd(args..., device_type='cuda')` instead.\n",
      "  return torch.cuda.amp.custom_fwd(orig_func)  # type: ignore\n",
      "/home/octoopt/anaconda3/envs/hcmc/lib/python3.10/site-packages/fairscale/experimental/nn/offload.py:30: FutureWarning: `torch.cuda.amp.custom_bwd(args...)` is deprecated. Please use `torch.amp.custom_bwd(args..., device_type='cuda')` instead.\n",
      "  return torch.cuda.amp.custom_bwd(orig_func)  # type: ignore\n"
     ]
    }
   ],
   "source": [
    "from components.fuzzymatching import FuzzyMatchingFactory\n",
    "from core.config import Environment, Config\n",
    "\n",
    "\n",
    "matching_tool_config = {'csv_path': './backend/db/keyframes.csv', \n",
    "                        'env_dir': Environment()}\n",
    "ocr_matcher = FuzzyMatchingFactory.produce('rapidwuzzy', **matching_tool_config)\n"
   ]
  },
  {
   "cell_type": "code",
   "execution_count": 2,
   "metadata": {},
   "outputs": [
    {
     "data": {
      "text/plain": [
       "<components.llms.gemini.GeminiAgent at 0x772cadd01690>"
      ]
     },
     "execution_count": 2,
     "metadata": {},
     "output_type": "execute_result"
    }
   ],
   "source": [
    "from components.llms import AgentFactory\n",
    "from components.llms.prompts import EXTRACT_KEYWORDS\n",
    "\n",
    "import os \n",
    "from dotenv import load_dotenv\n",
    "\n",
    "load_dotenv()\n",
    "GOOGLE_API_KEY = os.getenv(\"GOOGLE_API_KEY\")\n",
    "\n",
    "llm_config = {'api_key': GOOGLE_API_KEY}\n",
    "llm_agent = AgentFactory.produce(provider='gemini', \n",
    "                                 **llm_config)\n",
    "llm_agent"
   ]
  },
  {
   "cell_type": "code",
   "execution_count": 3,
   "metadata": {},
   "outputs": [],
   "source": [
    "query = \"Đoạn giới thiệu về lễ hội Việt - Nhật. Trong lễ hội có các phân cảnh những chiếc lồng đèn kiểu Nhật cùng những chiếc dù Wagasa. Phân đoạn giữa có hình ảnh của chú mèo máy Doraemon khổng lồ và có những người xung quanh chụp ảnh với nó. Phân đoạn sau đó có hình ảnh một ban nhạc Nhật chơi các nhạc cụ truyền thống trên sân khấu. Xuyên suốt đoạn giới thiệu là một số đoạn phỏng vấn những người tham gia lễ hội. Hỏi có tổng cộng bao nhiêu người khác nhau được phỏng vấn trong đoạn giới thiệu trên?\""
   ]
  },
  {
   "cell_type": "code",
   "execution_count": 4,
   "metadata": {},
   "outputs": [
    {
     "data": {
      "text/plain": [
       "['Việt - Nhật festival',\n",
       " 'Japanese lanterns',\n",
       " 'Wagasa umbrellas',\n",
       " 'Doraemon',\n",
       " 'Japanese traditional music',\n",
       " 'interview']"
      ]
     },
     "execution_count": 4,
     "metadata": {},
     "output_type": "execute_result"
    }
   ],
   "source": [
    "import json\n",
    "\n",
    "kw_v3 = llm_agent.run(EXTRACT_KEYWORDS + '\\n' + query)\n",
    "kw_v3 = json.loads(kw_v3)\n",
    "kw_v3 = [d['keyword'] for d in kw_v3]\n",
    "kw_v3"
   ]
  },
  {
   "cell_type": "code",
   "execution_count": 5,
   "metadata": {},
   "outputs": [
    {
     "name": "stdout",
     "output_type": "stream",
     "text": [
      "60\n",
      "51\n",
      "['L02_V030-15045.webp', 'L18_V008-00318.webp', 'L24_V005-02088.webp', 'L03_V011-11207.webp', 'L24_V007-09780.webp', 'L24_V018-00000.webp', 'L24_V029-15532.webp', 'L24_V028-12507.webp', 'L10_V024-00419.webp', 'L24_V009-11008.webp', 'L10_V008-29727.webp', 'L09_V010-00657.webp', 'L05_V024-18145.webp', 'L24_V004-14444.webp', 'L20_V015-01702.webp', 'L21_V013-31966.webp', 'L24_V011-13801.webp', 'L24_V032-10966.webp', 'L24_V035-12168.webp', 'L24_V026-13456.webp', 'L14_V018-00036.webp', 'L09_V014-31190.webp', 'L19_V024-29772.webp', 'L24_V043-10213.webp', 'L23_V023-06165.webp', 'L24_V030-17737.webp', 'L24_V031-07816.webp', 'L24_V043-10716.webp', 'L20_V019-24400.webp', 'L21_V027-12655.webp', 'L24_V031-07865.webp', 'L24_V014-03893.webp', 'L24_V014-08476.webp', 'L01_V031-20472.webp', 'L20_V016-00007.webp', 'L10_V012-00034.webp', 'L24_V032-16779.webp', 'L17_V009-00042.webp', 'L24_V013-01155.webp', 'L01_V031-21436.webp', 'L24_V024-02104.webp', 'L09_V012-00005.webp', 'L24_V037-15045.webp', 'L24_V031-01814.webp', 'L24_V004-19383.webp', 'L23_V021-11160.webp', 'L13_V022-20516.webp', 'L08_V012-11342.webp', 'L24_V002-03835.webp', 'L07_V013-00529.webp', 'L24_V007-07244.webp']\n"
     ]
    }
   ],
   "source": [
    "matching_paths_v3 = []\n",
    "\n",
    "for kw in kw_v3: \n",
    "    result = ocr_matcher.run(kw)\n",
    "    img_paths = ocr_matcher.get_image_paths(result)\n",
    "    matching_paths_v3 += img_paths\n",
    "\n",
    "print(len(matching_paths_v3))\n",
    "matching_paths_v3 = list(set(matching_paths_v3))\n",
    "print(len(matching_paths_v3))\n",
    "print(matching_paths_v3)"
   ]
  },
  {
   "cell_type": "code",
   "execution_count": 6,
   "metadata": {},
   "outputs": [],
   "source": [
    "import json\n",
    "env_dir = Environment()\n",
    "with open(os.path.join(env_dir.root, env_dir.db_root, env_dir.vid_url), 'r') as f:\n",
    "    vid_url = json.load(f)\n",
    "\n",
    "with open(os.path.join(env_dir.root, env_dir.db_root, env_dir.url_fps), 'r') as f:\n",
    "    url_fps = json.load(f)"
   ]
  },
  {
   "cell_type": "code",
   "execution_count": 7,
   "metadata": {},
   "outputs": [],
   "source": [
    "vid_urls = []\n",
    "# embed_urls = []\n",
    "frames = []\n",
    "# image_paths = [image_path.split('/')[-1] for image_path in matching_paths]\n",
    "for img_id in matching_paths_v3: \n",
    "    vid_id = img_id.split('.')[0]\n",
    "    vid_name, frame = vid_id.split('-')\n",
    "    url = vid_url[vid_name] + '&t=' + str(int(int(frame)/url_fps[vid_url[vid_name]]))\n",
    "    # embed_url = vid_url[vid_name].replace('watch?v=', 'embed/') # TODO: make this execuate from frontend\n",
    "    vid_urls.append(url)\n",
    "    # embed_urls.append(embed_url)\n",
    "    frames.append(frame)\n"
   ]
  },
  {
   "cell_type": "code",
   "execution_count": 8,
   "metadata": {},
   "outputs": [
    {
     "name": "stdout",
     "output_type": "stream",
     "text": [
      "converting to json\n"
     ]
    },
    {
     "data": {
      "text/plain": [
       "{'image_paths': ['L20_V031-11320.webp',\n",
       "  'L18_V015-16287.webp',\n",
       "  'L12_V010-24105.webp',\n",
       "  'L24_V004-12078.webp',\n",
       "  'L24_V014-01304.webp',\n",
       "  'L24_V014-01656.webp',\n",
       "  'L14_V016-30491.webp',\n",
       "  'L24_V006-08591.webp',\n",
       "  'L24_V027-04205.webp',\n",
       "  'L24_V009-11920.webp',\n",
       "  'L04_V018-15273.webp',\n",
       "  'L14_V027-01477.webp',\n",
       "  'L24_V025-13055.webp',\n",
       "  'L10_V008-29727.webp',\n",
       "  'L02_V001-06644.webp',\n",
       "  'L19_V024-10902.webp',\n",
       "  'L20_V006-10307.webp',\n",
       "  'L04_V002-20546.webp',\n",
       "  'L24_V009-10654.webp',\n",
       "  'L21_V013-31966.webp',\n",
       "  'L24_V005-01295.webp',\n",
       "  'L14_V001-18391.webp',\n",
       "  'L24_V015-07970.webp',\n",
       "  'L24_V021-08901.webp',\n",
       "  'L20_V014-08215.webp',\n",
       "  'L24_V043-05072.webp',\n",
       "  'L19_V024-01141.webp',\n",
       "  'L02_V001-12950.webp',\n",
       "  'L09_V014-31190.webp',\n",
       "  'L02_V016-00075.webp',\n",
       "  'L24_V018-05249.webp',\n",
       "  'L19_V024-29772.webp',\n",
       "  'L24_V043-10213.webp',\n",
       "  'L24_V020-08273.webp',\n",
       "  'L16_V020-25845.webp',\n",
       "  'L11_V011-26263.webp',\n",
       "  'L24_V004-12111.webp',\n",
       "  'L20_V019-24400.webp',\n",
       "  'L09_V014-07325.webp',\n",
       "  'L04_V001-04632.webp',\n",
       "  'L01_V021-03344.webp',\n",
       "  'L24_V014-08476.webp',\n",
       "  'L10_V018-00008.webp',\n",
       "  'L20_V016-00007.webp',\n",
       "  'L24_V024-02104.webp',\n",
       "  'L01_V031-21436.webp',\n",
       "  'L24_V026-04778.webp',\n",
       "  'L02_V030-14560.webp',\n",
       "  'L24_V035-16667.webp',\n",
       "  'L08_V004-16612.webp',\n",
       "  'L10_V026-00049.webp',\n",
       "  'L19_V024-21041.webp',\n",
       "  'L13_V022-20516.webp',\n",
       "  'L24_V018-09474.webp',\n",
       "  'L08_V012-11342.webp',\n",
       "  'L03_V027-04694.webp',\n",
       "  'L24_V033-02280.webp',\n",
       "  'L03_V028-01774.webp',\n",
       "  'L24_V007-07244.webp',\n",
       "  'L20_V007-04257.webp'],\n",
       " 'vid_urls': ['https://youtube.com/watch?v=QA4Km-ofXoA&t=377',\n",
       "  'https://youtube.com/watch?v=Zo1FBc4PGCM&t=651',\n",
       "  'https://youtube.com/watch?v=nMJULsGOhWc&t=964',\n",
       "  'https://youtube.com/watch?v=rCw_cJVKuXU&t=483',\n",
       "  'https://youtube.com/watch?v=UHo6ZQgGPQA&t=52',\n",
       "  'https://youtube.com/watch?v=UHo6ZQgGPQA&t=66',\n",
       "  'https://youtube.com/watch?v=5MWvvSmjZT0&t=1219',\n",
       "  'https://youtube.com/watch?v=WHsQgL962oY&t=343',\n",
       "  'https://youtube.com/watch?v=h1L8PnpVdqE&t=140',\n",
       "  'https://youtube.com/watch?v=QzeUHVoIBN8&t=476',\n",
       "  'https://youtube.com/watch?v=Wl2BiSgDNzQ&t=610',\n",
       "  'https://youtube.com/watch?v=8mp4U5eu-vA&t=59',\n",
       "  'https://youtube.com/watch?v=qSgorxzpt4A&t=435',\n",
       "  'https://youtube.com/watch?v=-ci69l-dt4I&t=1189',\n",
       "  'https://youtube.com/watch?v=lGfBEHpCpT4&t=265',\n",
       "  'https://youtube.com/watch?v=vybuNngT7CY&t=363',\n",
       "  'https://youtube.com/watch?v=rY5r9Ikqva8&t=412',\n",
       "  'https://youtube.com/watch?v=xuWygNAkqH4&t=821',\n",
       "  'https://youtube.com/watch?v=QzeUHVoIBN8&t=426',\n",
       "  'https://youtube.com/watch?v=uBi2IfecQ1U&t=1065',\n",
       "  'https://youtube.com/watch?v=6hvzIEeylqY&t=51',\n",
       "  'https://youtube.com/watch?v=7Tjg2ApS0g0&t=735',\n",
       "  'https://youtube.com/watch?v=xXi9CeI7tXI&t=318',\n",
       "  'https://youtube.com/watch?v=6xfbfbPJFBE&t=296',\n",
       "  'https://youtube.com/watch?v=4--VFb1YVBQ&t=273',\n",
       "  'https://youtube.com/watch?v=lwJFlRCuCjc&t=202',\n",
       "  'https://youtube.com/watch?v=vybuNngT7CY&t=38',\n",
       "  'https://youtube.com/watch?v=lGfBEHpCpT4&t=518',\n",
       "  'https://youtube.com/watch?v=Zysowt7xqnc&t=1247',\n",
       "  'https://youtube.com/watch?v=BhqmDpx9Y1s&t=3',\n",
       "  'https://youtube.com/watch?v=sPA1G6L7C5E&t=209',\n",
       "  'https://youtube.com/watch?v=vybuNngT7CY&t=992',\n",
       "  'https://youtube.com/watch?v=lwJFlRCuCjc&t=408',\n",
       "  'https://youtube.com/watch?v=OM123EoSATk&t=275',\n",
       "  'https://youtube.com/watch?v=L80bk8mLlW4&t=861',\n",
       "  'https://youtube.com/watch?v=lp_5icndsPo&t=1050',\n",
       "  'https://youtube.com/watch?v=rCw_cJVKuXU&t=484',\n",
       "  'https://youtube.com/watch?v=XwoMXJktoA4&t=976',\n",
       "  'https://youtube.com/watch?v=Zysowt7xqnc&t=293',\n",
       "  'https://youtube.com/watch?v=aJLgbg8X1GY&t=185',\n",
       "  'https://youtube.com/watch?v=95ArxEjjS_U&t=133',\n",
       "  'https://youtube.com/watch?v=UHo6ZQgGPQA&t=339',\n",
       "  'https://youtube.com/watch?v=WTiZmr5gp2w&t=0',\n",
       "  'https://youtube.com/watch?v=9qra84y10gY&t=0',\n",
       "  'https://youtube.com/watch?v=0OCZPsT8f9c&t=70',\n",
       "  'https://youtube.com/watch?v=JHBvRQSzQsA&t=857',\n",
       "  'https://youtube.com/watch?v=l-fEJmuv3o0&t=191',\n",
       "  'https://youtube.com/watch?v=7YeBl0T0-aI&t=582',\n",
       "  'https://youtube.com/watch?v=IvLN1-7TmfE&t=555',\n",
       "  'https://youtube.com/watch?v=QmFbek4L_yk&t=664',\n",
       "  'https://youtube.com/watch?v=3v-A_TDHYzo&t=1',\n",
       "  'https://youtube.com/watch?v=vybuNngT7CY&t=701',\n",
       "  'https://youtube.com/watch?v=wqqjRk8NiBY&t=820',\n",
       "  'https://youtube.com/watch?v=sPA1G6L7C5E&t=378',\n",
       "  'https://youtube.com/watch?v=E31Ylfk8GhY&t=453',\n",
       "  'https://youtube.com/watch?v=azOrg2pX1xU&t=187',\n",
       "  'https://youtube.com/watch?v=bLlFbUC5K1I&t=76',\n",
       "  'https://youtube.com/watch?v=5Y9AmJjwbPs&t=70',\n",
       "  'https://youtube.com/watch?v=JVIr6RtExPg&t=289',\n",
       "  'https://youtube.com/watch?v=T4lhth5Psjw&t=141'],\n",
       " 'frames': ['11320',\n",
       "  '16287',\n",
       "  '24105',\n",
       "  '12078',\n",
       "  '01304',\n",
       "  '01656',\n",
       "  '30491',\n",
       "  '08591',\n",
       "  '04205',\n",
       "  '11920',\n",
       "  '15273',\n",
       "  '01477',\n",
       "  '13055',\n",
       "  '29727',\n",
       "  '06644',\n",
       "  '10902',\n",
       "  '10307',\n",
       "  '20546',\n",
       "  '10654',\n",
       "  '31966',\n",
       "  '01295',\n",
       "  '18391',\n",
       "  '07970',\n",
       "  '08901',\n",
       "  '08215',\n",
       "  '05072',\n",
       "  '01141',\n",
       "  '12950',\n",
       "  '31190',\n",
       "  '00075',\n",
       "  '05249',\n",
       "  '29772',\n",
       "  '10213',\n",
       "  '08273',\n",
       "  '25845',\n",
       "  '26263',\n",
       "  '12111',\n",
       "  '24400',\n",
       "  '07325',\n",
       "  '04632',\n",
       "  '03344',\n",
       "  '08476',\n",
       "  '00008',\n",
       "  '00007',\n",
       "  '02104',\n",
       "  '21436',\n",
       "  '04778',\n",
       "  '14560',\n",
       "  '16667',\n",
       "  '16612',\n",
       "  '00049',\n",
       "  '21041',\n",
       "  '20516',\n",
       "  '09474',\n",
       "  '11342',\n",
       "  '04694',\n",
       "  '02280',\n",
       "  '01774',\n",
       "  '07244',\n",
       "  '04257']}"
      ]
     },
     "execution_count": 8,
     "metadata": {},
     "output_type": "execute_result"
    }
   ],
   "source": [
    "from api.v1.searching import search_by_ocr\n",
    "\n",
    "results = search_by_ocr(query=query, \n",
    "                        top_k=10, \n",
    "                        matching_tool=ocr_matcher, \n",
    "                        llm=llm_agent, \n",
    "                        vid_url=vid_url, \n",
    "                        url_fps=url_fps)\n",
    "results"
   ]
  }
 ],
 "metadata": {
  "kernelspec": {
   "display_name": "hcmc",
   "language": "python",
   "name": "python3"
  },
  "language_info": {
   "codemirror_mode": {
    "name": "ipython",
    "version": 3
   },
   "file_extension": ".py",
   "mimetype": "text/x-python",
   "name": "python",
   "nbconvert_exporter": "python",
   "pygments_lexer": "ipython3",
   "version": "3.10.14"
  }
 },
 "nbformat": 4,
 "nbformat_minor": 2
}
